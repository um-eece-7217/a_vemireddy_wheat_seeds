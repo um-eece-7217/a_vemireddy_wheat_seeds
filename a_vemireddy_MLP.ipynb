{
 "cells": [
  {
   "cell_type": "code",
   "execution_count": 1,
   "id": "013adc2b",
   "metadata": {},
   "outputs": [],
   "source": [
    "import pandas as pd\n",
    "import numpy as np\n",
    "from sklearn.model_selection import train_test_split\n",
    "from sklearn.preprocessing import StandardScaler\n",
    "from sklearn.neural_network import MLPClassifier\n",
    "from sklearn.metrics import accuracy_score,confusion_matrix\n",
    "import warnings\n",
    "warnings.filterwarnings(\"ignore\")"
   ]
  },
  {
   "cell_type": "code",
   "execution_count": 2,
   "id": "944f7f40",
   "metadata": {},
   "outputs": [
    {
     "name": "stdout",
     "output_type": "stream",
     "text": [
      "Accuracy: 0.88\n",
      "\n",
      " Confusion matrix: \n",
      " [[ 9  0  2]\n",
      " [ 0 14  0]\n",
      " [ 3  0 14]]\n"
     ]
    }
   ],
   "source": [
    "url = 'https://archive.ics.uci.edu/ml/machine-learning-databases/00236/seeds_dataset.txt'\n",
    "\n",
    "# Load the dataset\n",
    "features = ['Area',\n",
    "            'Perimeter',\n",
    "            'Compactness',\n",
    "            'Length of kernel',\n",
    "            'Width of kernel',\n",
    "            'Asymmetry coefficient',\n",
    "            'Length of kernel groove.']\n",
    "\n",
    "df = pd.read_csv(url, delimiter=r'[\\t]+',\n",
    "                 names=features + ['target'])\n",
    "X = df.iloc[:, :-1].values\n",
    "y = df.iloc[:, -1].values\n",
    "\n",
    "# Split the data into training and testing sets\n",
    "X_train, X_test, y_train, y_test = train_test_split(X, y, test_size=0.2, random_state=42)\n",
    "\n",
    "# Apply feature scaling to the training and testing data\n",
    "scaler = StandardScaler()\n",
    "X_train_scaled = scaler.fit_transform(X_train)\n",
    "X_test_scaled = scaler.transform(X_test)\n",
    "\n",
    "# Create an MLP classifier with default hyperparameters\n",
    "clf = MLPClassifier(random_state=42)\n",
    "\n",
    "# Fit the classifier to the training data\n",
    "clf.fit(X_train_scaled, y_train)\n",
    "\n",
    "# Make predictions on the test data\n",
    "y_pred = clf.predict(X_test_scaled)\n",
    "\n",
    "# Evaluate the performance of the model\n",
    "accuracy = accuracy_score(y_test, y_pred)\n",
    "print(f'Accuracy: {accuracy:.2f}')\n",
    "print('\\n Confusion matrix: \\n', confusion_matrix(y_test, y_pred))"
   ]
  },
  {
   "cell_type": "markdown",
   "id": "99bc6068",
   "metadata": {},
   "source": [
    "The MLP model was trained on a wheat seeds dataset and achieved an accuracy of 0.88. The confusion matrix shows the breakdown of predicted labels compared to the actual labels.\n",
    "\n",
    "Looking at the matrix, we can see that the model predicted 9 samples as belonging to class 1 and the actual class was also 1. The model predicted 14 samples as belonging to class 2, and the actual class was also 2. The model predicted 14 samples as belonging to class 3, and the actual class was also 3.\n",
    "\n",
    "However, there are also some misclassifications. The model predicted 3 samples as belonging to class 1, but the actual class was 3. The model predicted 2 samples as belonging to class 3, but the actual class was 1.\n",
    "\n",
    "In general, an accuracy of 0.88 indicates that the model is performing well, but it's worth investigating further to see if there are any imbalances in the dataset or if there are any specific classes that the model is having trouble with. Also, when we compare with previous logistic regression the performace gotslightly improved"
   ]
  },
  {
   "cell_type": "code",
   "execution_count": null,
   "id": "cd1fa85f",
   "metadata": {},
   "outputs": [],
   "source": []
  }
 ],
 "metadata": {
  "kernelspec": {
   "display_name": "Python 3",
   "language": "python",
   "name": "python3"
  },
  "language_info": {
   "codemirror_mode": {
    "name": "ipython",
    "version": 3
   },
   "file_extension": ".py",
   "mimetype": "text/x-python",
   "name": "python",
   "nbconvert_exporter": "python",
   "pygments_lexer": "ipython3",
   "version": "3.7.10"
  }
 },
 "nbformat": 4,
 "nbformat_minor": 5
}
