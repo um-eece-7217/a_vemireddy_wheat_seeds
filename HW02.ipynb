{
  "nbformat": 4,
  "nbformat_minor": 0,
  "metadata": {
    "colab": {
      "provenance": []
    },
    "kernelspec": {
      "name": "python3",
      "display_name": "Python 3"
    },
    "language_info": {
      "name": "python"
    }
  },
  "cells": [
    {
      "cell_type": "markdown",
      "source": [
        "1.Write a randomizer program that selectively randomizes a percentage of the wheat seed features (a cell -- not a column or row)."
      ],
      "metadata": {
        "id": "vR0ITI_8QUUU"
      }
    },
    {
      "cell_type": "code",
      "source": [
        "from sklearn.linear_model import LinearRegression\n",
        "from sklearn.model_selection import train_test_split\n",
        "from sklearn.impute import SimpleImputer\n",
        "from sklearn.metrics import mean_squared_error\n",
        "import pandas as pd\n",
        "import numpy as np\n",
        "from matplotlib.colors import ListedColormap\n",
        "from sklearn.metrics import accuracy_score\n",
        "import matplotlib.pyplot as plt\n",
        "from sklearn.linear_model import LogisticRegression\n",
        "from sklearn import tree"
      ],
      "metadata": {
        "id": "UmdX0TFGNjbI"
      },
      "execution_count": 78,
      "outputs": []
    },
    {
      "cell_type": "code",
      "source": [],
      "metadata": {
        "id": "n52s8POMUhq_"
      },
      "execution_count": null,
      "outputs": []
    },
    {
      "cell_type": "code",
      "source": [
        "!wget https://archive.ics.uci.edu/ml/machine-learning-databases/00236/seeds_dataset.txt\n",
        "path = '/content/seeds_dataset.txt'"
      ],
      "metadata": {
        "id": "G-G_yz5vNkLx",
        "colab": {
          "base_uri": "https://localhost:8080/"
        },
        "outputId": "8812ebaf-a405-44db-fdbe-402bbcb641d9"
      },
      "execution_count": 50,
      "outputs": [
        {
          "output_type": "stream",
          "name": "stdout",
          "text": [
            "--2023-02-28 05:15:59--  https://archive.ics.uci.edu/ml/machine-learning-databases/00236/seeds_dataset.txt\n",
            "Resolving archive.ics.uci.edu (archive.ics.uci.edu)... 128.195.10.252\n",
            "Connecting to archive.ics.uci.edu (archive.ics.uci.edu)|128.195.10.252|:443... connected.\n",
            "HTTP request sent, awaiting response... 200 OK\n",
            "Length: 9300 (9.1K) [application/x-httpd-php]\n",
            "Saving to: ‘seeds_dataset.txt.1’\n",
            "\n",
            "\rseeds_dataset.txt.1   0%[                    ]       0  --.-KB/s               \rseeds_dataset.txt.1 100%[===================>]   9.08K  --.-KB/s    in 0s      \n",
            "\n",
            "2023-02-28 05:15:59 (83.5 MB/s) - ‘seeds_dataset.txt.1’ saved [9300/9300]\n",
            "\n"
          ]
        }
      ]
    },
    {
      "cell_type": "code",
      "source": [
        "features = ['Area',\n",
        "            'Perimeter',\n",
        "            'Compactness',\n",
        "            'Length of kernel',\n",
        "            'Width of kernel',\n",
        "            'Asymmetry coefficient',\n",
        "            'Length of kernel groove.']\n",
        "\n",
        "df = pd.read_csv(path, delimiter=r'[\\t]+',\n",
        "                 names=features + ['target'])\n",
        "display(df)"
      ],
      "metadata": {
        "colab": {
          "base_uri": "https://localhost:8080/",
          "height": 575
        },
        "id": "vBHt_9r-OeCZ",
        "outputId": "01aea08b-a4ec-40ad-af3c-779620d64bd1"
      },
      "execution_count": 51,
      "outputs": [
        {
          "output_type": "stream",
          "name": "stderr",
          "text": [
            "/usr/local/lib/python3.8/dist-packages/pandas/util/_decorators.py:311: ParserWarning: Falling back to the 'python' engine because the 'c' engine does not support regex separators (separators > 1 char and different from '\\s+' are interpreted as regex); you can avoid this warning by specifying engine='python'.\n",
            "  return func(*args, **kwargs)\n"
          ]
        },
        {
          "output_type": "display_data",
          "data": {
            "text/plain": [
              "      Area  Perimeter  Compactness  Length of kernel  Width of kernel  \\\n",
              "0    15.26      14.84       0.8710             5.763            3.312   \n",
              "1    14.88      14.57       0.8811             5.554            3.333   \n",
              "2    14.29      14.09       0.9050             5.291            3.337   \n",
              "3    13.84      13.94       0.8955             5.324            3.379   \n",
              "4    16.14      14.99       0.9034             5.658            3.562   \n",
              "..     ...        ...          ...               ...              ...   \n",
              "205  12.19      13.20       0.8783             5.137            2.981   \n",
              "206  11.23      12.88       0.8511             5.140            2.795   \n",
              "207  13.20      13.66       0.8883             5.236            3.232   \n",
              "208  11.84      13.21       0.8521             5.175            2.836   \n",
              "209  12.30      13.34       0.8684             5.243            2.974   \n",
              "\n",
              "     Asymmetry coefficient  Length of kernel groove.  target  \n",
              "0                    2.221                     5.220       1  \n",
              "1                    1.018                     4.956       1  \n",
              "2                    2.699                     4.825       1  \n",
              "3                    2.259                     4.805       1  \n",
              "4                    1.355                     5.175       1  \n",
              "..                     ...                       ...     ...  \n",
              "205                  3.631                     4.870       3  \n",
              "206                  4.325                     5.003       3  \n",
              "207                  8.315                     5.056       3  \n",
              "208                  3.598                     5.044       3  \n",
              "209                  5.637                     5.063       3  \n",
              "\n",
              "[210 rows x 8 columns]"
            ],
            "text/html": [
              "\n",
              "  <div id=\"df-e478bc8e-fa50-4b5c-9049-48c2348e921d\">\n",
              "    <div class=\"colab-df-container\">\n",
              "      <div>\n",
              "<style scoped>\n",
              "    .dataframe tbody tr th:only-of-type {\n",
              "        vertical-align: middle;\n",
              "    }\n",
              "\n",
              "    .dataframe tbody tr th {\n",
              "        vertical-align: top;\n",
              "    }\n",
              "\n",
              "    .dataframe thead th {\n",
              "        text-align: right;\n",
              "    }\n",
              "</style>\n",
              "<table border=\"1\" class=\"dataframe\">\n",
              "  <thead>\n",
              "    <tr style=\"text-align: right;\">\n",
              "      <th></th>\n",
              "      <th>Area</th>\n",
              "      <th>Perimeter</th>\n",
              "      <th>Compactness</th>\n",
              "      <th>Length of kernel</th>\n",
              "      <th>Width of kernel</th>\n",
              "      <th>Asymmetry coefficient</th>\n",
              "      <th>Length of kernel groove.</th>\n",
              "      <th>target</th>\n",
              "    </tr>\n",
              "  </thead>\n",
              "  <tbody>\n",
              "    <tr>\n",
              "      <th>0</th>\n",
              "      <td>15.26</td>\n",
              "      <td>14.84</td>\n",
              "      <td>0.8710</td>\n",
              "      <td>5.763</td>\n",
              "      <td>3.312</td>\n",
              "      <td>2.221</td>\n",
              "      <td>5.220</td>\n",
              "      <td>1</td>\n",
              "    </tr>\n",
              "    <tr>\n",
              "      <th>1</th>\n",
              "      <td>14.88</td>\n",
              "      <td>14.57</td>\n",
              "      <td>0.8811</td>\n",
              "      <td>5.554</td>\n",
              "      <td>3.333</td>\n",
              "      <td>1.018</td>\n",
              "      <td>4.956</td>\n",
              "      <td>1</td>\n",
              "    </tr>\n",
              "    <tr>\n",
              "      <th>2</th>\n",
              "      <td>14.29</td>\n",
              "      <td>14.09</td>\n",
              "      <td>0.9050</td>\n",
              "      <td>5.291</td>\n",
              "      <td>3.337</td>\n",
              "      <td>2.699</td>\n",
              "      <td>4.825</td>\n",
              "      <td>1</td>\n",
              "    </tr>\n",
              "    <tr>\n",
              "      <th>3</th>\n",
              "      <td>13.84</td>\n",
              "      <td>13.94</td>\n",
              "      <td>0.8955</td>\n",
              "      <td>5.324</td>\n",
              "      <td>3.379</td>\n",
              "      <td>2.259</td>\n",
              "      <td>4.805</td>\n",
              "      <td>1</td>\n",
              "    </tr>\n",
              "    <tr>\n",
              "      <th>4</th>\n",
              "      <td>16.14</td>\n",
              "      <td>14.99</td>\n",
              "      <td>0.9034</td>\n",
              "      <td>5.658</td>\n",
              "      <td>3.562</td>\n",
              "      <td>1.355</td>\n",
              "      <td>5.175</td>\n",
              "      <td>1</td>\n",
              "    </tr>\n",
              "    <tr>\n",
              "      <th>...</th>\n",
              "      <td>...</td>\n",
              "      <td>...</td>\n",
              "      <td>...</td>\n",
              "      <td>...</td>\n",
              "      <td>...</td>\n",
              "      <td>...</td>\n",
              "      <td>...</td>\n",
              "      <td>...</td>\n",
              "    </tr>\n",
              "    <tr>\n",
              "      <th>205</th>\n",
              "      <td>12.19</td>\n",
              "      <td>13.20</td>\n",
              "      <td>0.8783</td>\n",
              "      <td>5.137</td>\n",
              "      <td>2.981</td>\n",
              "      <td>3.631</td>\n",
              "      <td>4.870</td>\n",
              "      <td>3</td>\n",
              "    </tr>\n",
              "    <tr>\n",
              "      <th>206</th>\n",
              "      <td>11.23</td>\n",
              "      <td>12.88</td>\n",
              "      <td>0.8511</td>\n",
              "      <td>5.140</td>\n",
              "      <td>2.795</td>\n",
              "      <td>4.325</td>\n",
              "      <td>5.003</td>\n",
              "      <td>3</td>\n",
              "    </tr>\n",
              "    <tr>\n",
              "      <th>207</th>\n",
              "      <td>13.20</td>\n",
              "      <td>13.66</td>\n",
              "      <td>0.8883</td>\n",
              "      <td>5.236</td>\n",
              "      <td>3.232</td>\n",
              "      <td>8.315</td>\n",
              "      <td>5.056</td>\n",
              "      <td>3</td>\n",
              "    </tr>\n",
              "    <tr>\n",
              "      <th>208</th>\n",
              "      <td>11.84</td>\n",
              "      <td>13.21</td>\n",
              "      <td>0.8521</td>\n",
              "      <td>5.175</td>\n",
              "      <td>2.836</td>\n",
              "      <td>3.598</td>\n",
              "      <td>5.044</td>\n",
              "      <td>3</td>\n",
              "    </tr>\n",
              "    <tr>\n",
              "      <th>209</th>\n",
              "      <td>12.30</td>\n",
              "      <td>13.34</td>\n",
              "      <td>0.8684</td>\n",
              "      <td>5.243</td>\n",
              "      <td>2.974</td>\n",
              "      <td>5.637</td>\n",
              "      <td>5.063</td>\n",
              "      <td>3</td>\n",
              "    </tr>\n",
              "  </tbody>\n",
              "</table>\n",
              "<p>210 rows × 8 columns</p>\n",
              "</div>\n",
              "      <button class=\"colab-df-convert\" onclick=\"convertToInteractive('df-e478bc8e-fa50-4b5c-9049-48c2348e921d')\"\n",
              "              title=\"Convert this dataframe to an interactive table.\"\n",
              "              style=\"display:none;\">\n",
              "        \n",
              "  <svg xmlns=\"http://www.w3.org/2000/svg\" height=\"24px\"viewBox=\"0 0 24 24\"\n",
              "       width=\"24px\">\n",
              "    <path d=\"M0 0h24v24H0V0z\" fill=\"none\"/>\n",
              "    <path d=\"M18.56 5.44l.94 2.06.94-2.06 2.06-.94-2.06-.94-.94-2.06-.94 2.06-2.06.94zm-11 1L8.5 8.5l.94-2.06 2.06-.94-2.06-.94L8.5 2.5l-.94 2.06-2.06.94zm10 10l.94 2.06.94-2.06 2.06-.94-2.06-.94-.94-2.06-.94 2.06-2.06.94z\"/><path d=\"M17.41 7.96l-1.37-1.37c-.4-.4-.92-.59-1.43-.59-.52 0-1.04.2-1.43.59L10.3 9.45l-7.72 7.72c-.78.78-.78 2.05 0 2.83L4 21.41c.39.39.9.59 1.41.59.51 0 1.02-.2 1.41-.59l7.78-7.78 2.81-2.81c.8-.78.8-2.07 0-2.86zM5.41 20L4 18.59l7.72-7.72 1.47 1.35L5.41 20z\"/>\n",
              "  </svg>\n",
              "      </button>\n",
              "      \n",
              "  <style>\n",
              "    .colab-df-container {\n",
              "      display:flex;\n",
              "      flex-wrap:wrap;\n",
              "      gap: 12px;\n",
              "    }\n",
              "\n",
              "    .colab-df-convert {\n",
              "      background-color: #E8F0FE;\n",
              "      border: none;\n",
              "      border-radius: 50%;\n",
              "      cursor: pointer;\n",
              "      display: none;\n",
              "      fill: #1967D2;\n",
              "      height: 32px;\n",
              "      padding: 0 0 0 0;\n",
              "      width: 32px;\n",
              "    }\n",
              "\n",
              "    .colab-df-convert:hover {\n",
              "      background-color: #E2EBFA;\n",
              "      box-shadow: 0px 1px 2px rgba(60, 64, 67, 0.3), 0px 1px 3px 1px rgba(60, 64, 67, 0.15);\n",
              "      fill: #174EA6;\n",
              "    }\n",
              "\n",
              "    [theme=dark] .colab-df-convert {\n",
              "      background-color: #3B4455;\n",
              "      fill: #D2E3FC;\n",
              "    }\n",
              "\n",
              "    [theme=dark] .colab-df-convert:hover {\n",
              "      background-color: #434B5C;\n",
              "      box-shadow: 0px 1px 3px 1px rgba(0, 0, 0, 0.15);\n",
              "      filter: drop-shadow(0px 1px 2px rgba(0, 0, 0, 0.3));\n",
              "      fill: #FFFFFF;\n",
              "    }\n",
              "  </style>\n",
              "\n",
              "      <script>\n",
              "        const buttonEl =\n",
              "          document.querySelector('#df-e478bc8e-fa50-4b5c-9049-48c2348e921d button.colab-df-convert');\n",
              "        buttonEl.style.display =\n",
              "          google.colab.kernel.accessAllowed ? 'block' : 'none';\n",
              "\n",
              "        async function convertToInteractive(key) {\n",
              "          const element = document.querySelector('#df-e478bc8e-fa50-4b5c-9049-48c2348e921d');\n",
              "          const dataTable =\n",
              "            await google.colab.kernel.invokeFunction('convertToInteractive',\n",
              "                                                     [key], {});\n",
              "          if (!dataTable) return;\n",
              "\n",
              "          const docLinkHtml = 'Like what you see? Visit the ' +\n",
              "            '<a target=\"_blank\" href=https://colab.research.google.com/notebooks/data_table.ipynb>data table notebook</a>'\n",
              "            + ' to learn more about interactive tables.';\n",
              "          element.innerHTML = '';\n",
              "          dataTable['output_type'] = 'display_data';\n",
              "          await google.colab.output.renderOutput(dataTable, element);\n",
              "          const docLink = document.createElement('div');\n",
              "          docLink.innerHTML = docLinkHtml;\n",
              "          element.appendChild(docLink);\n",
              "        }\n",
              "      </script>\n",
              "    </div>\n",
              "  </div>\n",
              "  "
            ]
          },
          "metadata": {}
        }
      ]
    },
    {
      "cell_type": "code",
      "source": [
        "def plot_decision_regions(X, y, classifier, test_idx=None, resolution=0.02):\n",
        "    \n",
        "    # X = X.to_numpy()\n",
        "    # y = y.to_numpy()\n",
        "    # setup marker generator and color map\n",
        "    markers = ('o', 's', '^', 'v', '<')\n",
        "    colors = ('red', 'blue', 'lightgreen', 'gray', 'cyan')\n",
        "    cmap = ListedColormap(colors[:len(np.unique(y))])\n",
        "\n",
        "    # plot the decision surface\n",
        "    x1_min, x1_max = X[:, 0].min() - 1, X[:, 0].max() + 1\n",
        "    x2_min, x2_max = X[:, 1].min() - 1, X[:, 1].max() + 1\n",
        "    xx1, xx2 = np.meshgrid(np.arange(x1_min, x1_max, resolution),\n",
        "                           np.arange(x2_min, x2_max, resolution))\n",
        "    lab = classifier.predict(np.array([xx1.ravel(), xx2.ravel()]).T)\n",
        "    lab = lab.reshape(xx1.shape)\n",
        "    plt.contourf(xx1, xx2, lab, alpha=0.3, cmap=cmap)\n",
        "    plt.xlim(xx1.min(), xx1.max())\n",
        "    plt.ylim(xx2.min(), xx2.max())\n",
        "\n",
        "    # plot class examples\n",
        "    for idx, cl in enumerate(np.unique(y)):\n",
        "        plt.scatter(x=X[y == cl, 0], \n",
        "                    y=X[y == cl, 1],\n",
        "                    alpha=0.8, \n",
        "                    c=colors[idx],\n",
        "                    marker=markers[idx], \n",
        "                    label=f'Class {cl}', \n",
        "                    edgecolor='black')\n",
        "\n",
        "    # highlight test examples\n",
        "    if test_idx:\n",
        "        # plot all examples\n",
        "        X_test, y_test = X[test_idx, :], y[test_idx]\n",
        "\n",
        "        plt.scatter(X_test[:, 0],\n",
        "                    X_test[:, 1],\n",
        "                    c='none',\n",
        "                    edgecolor='black',\n",
        "                    alpha=1.0,\n",
        "                    linewidth=1,\n",
        "                    marker='o',\n",
        "                    s=100, \n",
        "                    label='Test set') "
      ],
      "metadata": {
        "id": "N93CitdmFjRj"
      },
      "execution_count": null,
      "outputs": []
    },
    {
      "cell_type": "code",
      "source": [
        "# Split the data into training and testing sets\n",
        "X_train, X_test, y_train, y_test = train_test_split(df.drop('target', axis=1), df['target'], test_size=0.1, random_state=42)\n"
      ],
      "metadata": {
        "id": "AhjQhCXYNukG"
      },
      "execution_count": 52,
      "outputs": []
    },
    {
      "cell_type": "code",
      "source": [
        "import numpy as np\n",
        "\n",
        "def randomize_wheat_seed_features(X, percentage):\n",
        "    \"\"\"\n",
        "    Randomly selects a percentage of the wheat seed features (a cell) and randomizes their values.\n",
        "\n",
        "    Parameters:\n",
        "        X (numpy.ndarray): The input feature matrix of shape (n_samples, n_features).\n",
        "        percentage (float): The percentage of cells to randomize, in the range [0, 1].\n",
        "\n",
        "    Returns:\n",
        "        X_randomized (numpy.ndarray): The randomized feature matrix of the same shape as X.\n",
        "    \"\"\"\n",
        "\n",
        "    # Make a copy of the input feature matrix\n",
        "    X_randomized = np.copy(X)\n",
        "\n",
        "    # Compute the total number of cells in the feature matrix\n",
        "    total_cells = X.shape[0] * X.shape[1]\n",
        "\n",
        "    # Compute the number of cells to randomize\n",
        "    num_cells_to_randomize = int(total_cells * percentage)\n",
        "\n",
        "    # Randomly select the indices of the cells to randomize\n",
        "    cell_indices = np.random.choice(total_cells, size=num_cells_to_randomize, replace=False)\n",
        "\n",
        "    # Randomly set the values of the selected cells\n",
        "    for cell_index in cell_indices:\n",
        "        row_index = cell_index // X.shape[1]\n",
        "        col_index = cell_index % X.shape[1]\n",
        "        X_randomized[row_index, col_index] = np.random.rand()\n",
        "\n",
        "    return X_randomized\n",
        "\n",
        "\n",
        "# Load the dataset\n",
        "data = np.loadtxt('https://archive.ics.uci.edu/ml/machine-learning-databases/00236/seeds_dataset.txt')\n",
        "\n",
        "# Split the dataset into features and labels\n",
        "X = data[:, :-1]\n",
        "\n",
        "# Print the original feature matrix\n",
        "print(\"Original feature matrix:\")\n",
        "print(X)\n",
        "\n",
        "# Randomize 10% of the cells\n",
        "X_randomized = randomize_wheat_seed_features(X, percentage=0.1)\n",
        "\n",
        "# Print the randomized feature matrix\n",
        "print(\"Randomized feature matrix:\")\n",
        "print(X_randomized)\n"
      ],
      "metadata": {
        "id": "KGjMJ7PtYA1a",
        "outputId": "d6deadea-a473-44ef-cc54-4c06c6c762f4",
        "colab": {
          "base_uri": "https://localhost:8080/"
        }
      },
      "execution_count": null,
      "outputs": [
        {
          "output_type": "stream",
          "name": "stdout",
          "text": [
            "Original feature matrix:\n",
            "[[15.26   14.84    0.871  ...  3.312   2.221   5.22  ]\n",
            " [14.88   14.57    0.8811 ...  3.333   1.018   4.956 ]\n",
            " [14.29   14.09    0.905  ...  3.337   2.699   4.825 ]\n",
            " ...\n",
            " [13.2    13.66    0.8883 ...  3.232   8.315   5.056 ]\n",
            " [11.84   13.21    0.8521 ...  2.836   3.598   5.044 ]\n",
            " [12.3    13.34    0.8684 ...  2.974   5.637   5.063 ]]\n",
            "Randomized feature matrix:\n",
            "[[15.26       14.84        0.871      ...  3.312       2.221\n",
            "   5.22      ]\n",
            " [14.88        0.59624201  0.18126335 ...  3.333       1.018\n",
            "   4.956     ]\n",
            " [14.29       14.09        0.905      ...  3.337       2.699\n",
            "   4.825     ]\n",
            " ...\n",
            " [ 0.61677658 13.66        0.8883     ...  3.232       8.315\n",
            "   5.056     ]\n",
            " [11.84       13.21        0.8521     ...  2.836       3.598\n",
            "   5.044     ]\n",
            " [12.3        13.34        0.8684     ...  2.974       5.637\n",
            "   5.063     ]]\n"
          ]
        }
      ]
    },
    {
      "cell_type": "code",
      "source": [
        "# Select a percentage of features to randomize\n",
        "percent_to_randomize = 0.1\n",
        "num_features_to_randomize = int(percent_to_randomize * df.shape[1])\n",
        "\n",
        "# Randomly select cells to be randomized\n",
        "random_rows = np.random.choice(df.index, size=num_features_to_randomize)\n",
        "random_cols = np.random.choice(df.columns[:-1], size=num_features_to_randomize)\n",
        "\n",
        "# Create a copy of the original dataframe\n",
        "df_randomized = df.copy()\n",
        "\n",
        "# Randomize the selected cells\n",
        "for i, row in enumerate(random_rows):\n",
        "    col = random_cols[i]\n",
        "    df_randomized.at[row, col] = np.random.uniform(low=df[col].min(), high=df[col].max())\n",
        "\n",
        "# Separate features and target variable\n",
        "X = df.iloc[:, :-1]\n",
        "y = df.iloc[:, -1]\n",
        "\n",
        "# Separate randomized features and target variable\n",
        "X_randomized = df_randomized.iloc[:, :-1]"
      ],
      "metadata": {
        "id": "Vtrn-Bx0B9Vd"
      },
      "execution_count": null,
      "outputs": []
    },
    {
      "cell_type": "code",
      "source": [
        "# Plot the original and randomized data\n",
        "fig, axs = plt.subplots(1, 2, figsize=(12, 6))\n",
        "axs[0].scatter(X.iloc[:, 0], X.iloc[:, 1], c=y)\n",
        "axs[0].set_xlabel(\"Area\")\n",
        "axs[0].set_ylabel(\"Perimeter\")\n",
        "axs[0].set_title(\"Original Data\")\n",
        "axs[1].scatter(X_randomized.iloc[:, 0], X_randomized.iloc[:, 1], c=y)\n",
        "axs[1].set_xlabel(\"Area\")\n",
        "axs[1].set_ylabel(\"Perimeter\")\n",
        "axs[1].set_title(\"Randomized Data ({}% randomization)\".format(int(percent_to_randomize * 100)))\n",
        "plt.show()"
      ],
      "metadata": {
        "colab": {
          "base_uri": "https://localhost:8080/",
          "height": 404
        },
        "id": "cTy9EyKHCG6w",
        "outputId": "3d667feb-1ee5-4e24-9485-c6cc481d6a70"
      },
      "execution_count": null,
      "outputs": [
        {
          "output_type": "display_data",
          "data": {
            "text/plain": [
              "<Figure size 864x432 with 2 Axes>"
            ],
            "image/png": "[encoded data removed]"
          },
          "metadata": {
            "needs_background": "light"
          }
        }
      ]
    },
    {
      "cell_type": "code",
      "source": [
        "data=np.loadtxt(\"seeds_dataset.txt\")\n",
        "print(data)"
      ],
      "metadata": {
        "colab": {
          "base_uri": "https://localhost:8080/"
        },
        "id": "VGM-2Ue0PRmb",
        "outputId": "ef9948d4-c6b5-41cf-d741-d5162e186b17"
      },
      "execution_count": null,
      "outputs": [
        {
          "output_type": "stream",
          "name": "stdout",
          "text": [
            "[[15.26   14.84    0.871  ...  2.221   5.22    1.    ]\n",
            " [14.88   14.57    0.8811 ...  1.018   4.956   1.    ]\n",
            " [14.29   14.09    0.905  ...  2.699   4.825   1.    ]\n",
            " ...\n",
            " [13.2    13.66    0.8883 ...  8.315   5.056   3.    ]\n",
            " [11.84   13.21    0.8521 ...  3.598   5.044   3.    ]\n",
            " [12.3    13.34    0.8684 ...  5.637   5.063   3.    ]]\n"
          ]
        }
      ]
    },
    {
      "cell_type": "markdown",
      "source": [
        "#2.Select a learning algorithm or algorithms and use the imputing solutions from scikit learn to compare results from the unaffected original data."
      ],
      "metadata": {
        "id": "IESUWDxRC3zb"
      }
    },
    {
      "cell_type": "code",
      "source": [
        "import pandas as pd\n",
        "\n",
        "url = \"https://archive.ics.uci.edu/ml/machine-learning-databases/00236/seeds_dataset.txt\"\n",
        "columns = [\"area\", \"perimeter\", \"compactness\", \"length\", \"width\", \"asymmetry\", \"groove\"]\n",
        "df = pd.read_csv(url, delimiter=r'[\\t]+', names=columns+['species'])\n",
        "df.head()\n"
      ],
      "metadata": {
        "colab": {
          "base_uri": "https://localhost:8080/",
          "height": 262
        },
        "id": "7pxUZKCiqoKa",
        "outputId": "cafa39af-347e-4133-807e-53d1cb2d8cea"
      },
      "execution_count": null,
      "outputs": [
        {
          "output_type": "stream",
          "name": "stderr",
          "text": [
            "/usr/local/lib/python3.8/dist-packages/pandas/util/_decorators.py:311: ParserWarning: Falling back to the 'python' engine because the 'c' engine does not support regex separators (separators > 1 char and different from '\\s+' are interpreted as regex); you can avoid this warning by specifying engine='python'.\n",
            "  return func(*args, **kwargs)\n"
          ]
        },
        {
          "output_type": "execute_result",
          "data": {
            "text/plain": [
              "    area  perimeter  compactness  length  width  asymmetry  groove  species\n",
              "0  15.26      14.84       0.8710   5.763  3.312      2.221   5.220        1\n",
              "1  14.88      14.57       0.8811   5.554  3.333      1.018   4.956        1\n",
              "2  14.29      14.09       0.9050   5.291  3.337      2.699   4.825        1\n",
              "3  13.84      13.94       0.8955   5.324  3.379      2.259   4.805        1\n",
              "4  16.14      14.99       0.9034   5.658  3.562      1.355   5.175        1"
            ],
            "text/html": [
              "\n",
              "  <div id=\"df-0e2f8833-6df5-42b7-8363-3e40a734e96a\">\n",
              "    <div class=\"colab-df-container\">\n",
              "      <div>\n",
              "<style scoped>\n",
              "    .dataframe tbody tr th:only-of-type {\n",
              "        vertical-align: middle;\n",
              "    }\n",
              "\n",
              "    .dataframe tbody tr th {\n",
              "        vertical-align: top;\n",
              "    }\n",
              "\n",
              "    .dataframe thead th {\n",
              "        text-align: right;\n",
              "    }\n",
              "</style>\n",
              "<table border=\"1\" class=\"dataframe\">\n",
              "  <thead>\n",
              "    <tr style=\"text-align: right;\">\n",
              "      <th></th>\n",
              "      <th>area</th>\n",
              "      <th>perimeter</th>\n",
              "      <th>compactness</th>\n",
              "      <th>length</th>\n",
              "      <th>width</th>\n",
              "      <th>asymmetry</th>\n",
              "      <th>groove</th>\n",
              "      <th>species</th>\n",
              "    </tr>\n",
              "  </thead>\n",
              "  <tbody>\n",
              "    <tr>\n",
              "      <th>0</th>\n",
              "      <td>15.26</td>\n",
              "      <td>14.84</td>\n",
              "      <td>0.8710</td>\n",
              "      <td>5.763</td>\n",
              "      <td>3.312</td>\n",
              "      <td>2.221</td>\n",
              "      <td>5.220</td>\n",
              "      <td>1</td>\n",
              "    </tr>\n",
              "    <tr>\n",
              "      <th>1</th>\n",
              "      <td>14.88</td>\n",
              "      <td>14.57</td>\n",
              "      <td>0.8811</td>\n",
              "      <td>5.554</td>\n",
              "      <td>3.333</td>\n",
              "      <td>1.018</td>\n",
              "      <td>4.956</td>\n",
              "      <td>1</td>\n",
              "    </tr>\n",
              "    <tr>\n",
              "      <th>2</th>\n",
              "      <td>14.29</td>\n",
              "      <td>14.09</td>\n",
              "      <td>0.9050</td>\n",
              "      <td>5.291</td>\n",
              "      <td>3.337</td>\n",
              "      <td>2.699</td>\n",
              "      <td>4.825</td>\n",
              "      <td>1</td>\n",
              "    </tr>\n",
              "    <tr>\n",
              "      <th>3</th>\n",
              "      <td>13.84</td>\n",
              "      <td>13.94</td>\n",
              "      <td>0.8955</td>\n",
              "      <td>5.324</td>\n",
              "      <td>3.379</td>\n",
              "      <td>2.259</td>\n",
              "      <td>4.805</td>\n",
              "      <td>1</td>\n",
              "    </tr>\n",
              "    <tr>\n",
              "      <th>4</th>\n",
              "      <td>16.14</td>\n",
              "      <td>14.99</td>\n",
              "      <td>0.9034</td>\n",
              "      <td>5.658</td>\n",
              "      <td>3.562</td>\n",
              "      <td>1.355</td>\n",
              "      <td>5.175</td>\n",
              "      <td>1</td>\n",
              "    </tr>\n",
              "  </tbody>\n",
              "</table>\n",
              "</div>\n",
              "      <button class=\"colab-df-convert\" onclick=\"convertToInteractive('df-0e2f8833-6df5-42b7-8363-3e40a734e96a')\"\n",
              "              title=\"Convert this dataframe to an interactive table.\"\n",
              "              style=\"display:none;\">\n",
              "        \n",
              "  <svg xmlns=\"http://www.w3.org/2000/svg\" height=\"24px\"viewBox=\"0 0 24 24\"\n",
              "       width=\"24px\">\n",
              "    <path d=\"M0 0h24v24H0V0z\" fill=\"none\"/>\n",
              "    <path d=\"M18.56 5.44l.94 2.06.94-2.06 2.06-.94-2.06-.94-.94-2.06-.94 2.06-2.06.94zm-11 1L8.5 8.5l.94-2.06 2.06-.94-2.06-.94L8.5 2.5l-.94 2.06-2.06.94zm10 10l.94 2.06.94-2.06 2.06-.94-2.06-.94-.94-2.06-.94 2.06-2.06.94z\"/><path d=\"M17.41 7.96l-1.37-1.37c-.4-.4-.92-.59-1.43-.59-.52 0-1.04.2-1.43.59L10.3 9.45l-7.72 7.72c-.78.78-.78 2.05 0 2.83L4 21.41c.39.39.9.59 1.41.59.51 0 1.02-.2 1.41-.59l7.78-7.78 2.81-2.81c.8-.78.8-2.07 0-2.86zM5.41 20L4 18.59l7.72-7.72 1.47 1.35L5.41 20z\"/>\n",
              "  </svg>\n",
              "      </button>\n",
              "      \n",
              "  <style>\n",
              "    .colab-df-container {\n",
              "      display:flex;\n",
              "      flex-wrap:wrap;\n",
              "      gap: 12px;\n",
              "    }\n",
              "\n",
              "    .colab-df-convert {\n",
              "      background-color: #E8F0FE;\n",
              "      border: none;\n",
              "      border-radius: 50%;\n",
              "      cursor: pointer;\n",
              "      display: none;\n",
              "      fill: #1967D2;\n",
              "      height: 32px;\n",
              "      padding: 0 0 0 0;\n",
              "      width: 32px;\n",
              "    }\n",
              "\n",
              "    .colab-df-convert:hover {\n",
              "      background-color: #E2EBFA;\n",
              "      box-shadow: 0px 1px 2px rgba(60, 64, 67, 0.3), 0px 1px 3px 1px rgba(60, 64, 67, 0.15);\n",
              "      fill: #174EA6;\n",
              "    }\n",
              "\n",
              "    [theme=dark] .colab-df-convert {\n",
              "      background-color: #3B4455;\n",
              "      fill: #D2E3FC;\n",
              "    }\n",
              "\n",
              "    [theme=dark] .colab-df-convert:hover {\n",
              "      background-color: #434B5C;\n",
              "      box-shadow: 0px 1px 3px 1px rgba(0, 0, 0, 0.15);\n",
              "      filter: drop-shadow(0px 1px 2px rgba(0, 0, 0, 0.3));\n",
              "      fill: #FFFFFF;\n",
              "    }\n",
              "  </style>\n",
              "\n",
              "      <script>\n",
              "        const buttonEl =\n",
              "          document.querySelector('#df-0e2f8833-6df5-42b7-8363-3e40a734e96a button.colab-df-convert');\n",
              "        buttonEl.style.display =\n",
              "          google.colab.kernel.accessAllowed ? 'block' : 'none';\n",
              "\n",
              "        async function convertToInteractive(key) {\n",
              "          const element = document.querySelector('#df-0e2f8833-6df5-42b7-8363-3e40a734e96a');\n",
              "          const dataTable =\n",
              "            await google.colab.kernel.invokeFunction('convertToInteractive',\n",
              "                                                     [key], {});\n",
              "          if (!dataTable) return;\n",
              "\n",
              "          const docLinkHtml = 'Like what you see? Visit the ' +\n",
              "            '<a target=\"_blank\" href=https://colab.research.google.com/notebooks/data_table.ipynb>data table notebook</a>'\n",
              "            + ' to learn more about interactive tables.';\n",
              "          element.innerHTML = '';\n",
              "          dataTable['output_type'] = 'display_data';\n",
              "          await google.colab.output.renderOutput(dataTable, element);\n",
              "          const docLink = document.createElement('div');\n",
              "          docLink.innerHTML = docLinkHtml;\n",
              "          element.appendChild(docLink);\n",
              "        }\n",
              "      </script>\n",
              "    </div>\n",
              "  </div>\n",
              "  "
            ]
          },
          "metadata": {},
          "execution_count": 41
        }
      ]
    },
    {
      "cell_type": "code",
      "source": [
        "X = df.iloc[:,:-1]\n",
        "y = df.iloc[:,-1]"
      ],
      "metadata": {
        "id": "a5YNINL0qjfo"
      },
      "execution_count": 79,
      "outputs": []
    },
    {
      "cell_type": "code",
      "source": [
        "# Split the data into training and testing sets\n",
        "X_train, X_test, y_train, y_test = train_test_split(df.drop('target', axis=1), df['target'], test_size=0.1, random_state=42)\n"
      ],
      "metadata": {
        "id": "lPRzUKvPbj9N"
      },
      "execution_count": 80,
      "outputs": []
    },
    {
      "cell_type": "code",
      "source": [
        "from sklearn.impute import SimpleImputer\n",
        "\n",
        "# Create imputer object with default parameters\n",
        "imputer = SimpleImputer(strategy='median')\n",
        "imputer.fit(X_train)\n",
        "X_train_imputed = imputer.fit_transform(X_train)\n",
        "X_test_imputed = imputer.fit_transform(X_test)"
      ],
      "metadata": {
        "id": "slDIioVBN2--"
      },
      "execution_count": 81,
      "outputs": []
    },
    {
      "cell_type": "code",
      "source": [
        "lr = LogisticRegression(multi_class='ovr',random_state=1, solver='lbfgs')\n",
        "lr.fit(X_train_imputed[:,:2],y_train.values)"
      ],
      "metadata": {
        "colab": {
          "base_uri": "https://localhost:8080/"
        },
        "id": "z5730tu_dF0U",
        "outputId": "1c1e091b-7489-4f0e-8a00-089f966e38aa"
      },
      "execution_count": 89,
      "outputs": [
        {
          "output_type": "execute_result",
          "data": {
            "text/plain": [
              "LogisticRegression(multi_class='ovr', random_state=1)"
            ]
          },
          "metadata": {},
          "execution_count": 89
        }
      ]
    },
    {
      "cell_type": "code",
      "source": [
        "plot_decision_regions(X_train_imputed[:,:2],y_train.values, classifier=lr)\n",
        "\n",
        "plt.xlabel('classification_1')\n",
        "plt.ylabel('classification_2')\n",
        "plt.legend(loc='upper left')\n",
        "plt.tight_layout()\n",
        "plt.show()\n",
        "     "
      ],
      "metadata": {
        "colab": {
          "base_uri": "https://localhost:8080/",
          "height": 297
        },
        "id": "bVTl6kuceC2w",
        "outputId": "9b3f4227-af29-40c5-a47b-26eea177fded"
      },
      "execution_count": 90,
      "outputs": [
        {
          "output_type": "display_data",
          "data": {
            "text/plain": [
              "<Figure size 432x288 with 1 Axes>"
            ],
            "image/png": "[encoded data removed]"
          },
          "metadata": {
            "needs_background": "light"
          }
        }
      ]
    },
    {
      "cell_type": "code",
      "source": [
        "lr = LogisticRegression(multi_class='ovr',random_state=1, solver='lbfgs')\n",
        "lr.fit(X_test_imputed[:,:2],y_test.values)"
      ],
      "metadata": {
        "colab": {
          "base_uri": "https://localhost:8080/"
        },
        "id": "8kwOm-h7eOr3",
        "outputId": "fec35618-3fa1-427f-cf57-c0135f8090d2"
      },
      "execution_count": 91,
      "outputs": [
        {
          "output_type": "execute_result",
          "data": {
            "text/plain": [
              "LogisticRegression(multi_class='ovr', random_state=1)"
            ]
          },
          "metadata": {},
          "execution_count": 91
        }
      ]
    },
    {
      "cell_type": "code",
      "source": [
        "plot_decision_regions(X_test_imputed[:,:2],y_test.values, classifier=lr)\n",
        "\n",
        "plt.xlabel('classification_1')\n",
        "plt.ylabel('classification_2')\n",
        "plt.legend(loc='upper left')\n",
        "plt.tight_layout()\n",
        "plt.show()"
      ],
      "metadata": {
        "colab": {
          "base_uri": "https://localhost:8080/",
          "height": 297
        },
        "id": "PPCXD7uKeWxL",
        "outputId": "46e21108-934f-4396-b17a-fee10de7df7c"
      },
      "execution_count": 92,
      "outputs": [
        {
          "output_type": "display_data",
          "data": {
            "text/plain": [
              "<Figure size 432x288 with 1 Axes>"
            ],
            "image/png": "[encoded data removed]"
          },
          "metadata": {
            "needs_background": "light"
          }
        }
      ]
    },
    {
      "cell_type": "code",
      "source": [
        "y_pred_imputed=lr.predict(X_test_imputed[:,[0,1]])\n",
        "accuracy_imputed=accuracy_score(y_test,y_pred_imputed)\n",
        "print(\"accuracy= \",accuracy_imputed)"
      ],
      "metadata": {
        "colab": {
          "base_uri": "https://localhost:8080/"
        },
        "id": "CBSIKxkTekD_",
        "outputId": "dd74d2e8-906a-429b-c4c2-96bd6d8d6c6d"
      },
      "execution_count": 93,
      "outputs": [
        {
          "output_type": "stream",
          "name": "stdout",
          "text": [
            "accuracy=  0.8095238095238095\n"
          ]
        }
      ]
    },
    {
      "cell_type": "code",
      "source": [
        "lr = LogisticRegression(multi_class='ovr',random_state=1, solver='lbfgs')\n",
        "lr.fit(X_train.values[:,:2],y_train.values)"
      ],
      "metadata": {
        "colab": {
          "base_uri": "https://localhost:8080/"
        },
        "id": "AQSn_jZtfAyw",
        "outputId": "650c24c0-8e41-44d7-a030-9b8eae7e9dea"
      },
      "execution_count": 94,
      "outputs": [
        {
          "output_type": "execute_result",
          "data": {
            "text/plain": [
              "LogisticRegression(multi_class='ovr', random_state=1)"
            ]
          },
          "metadata": {},
          "execution_count": 94
        }
      ]
    },
    {
      "cell_type": "code",
      "source": [
        "plot_decision_regions(X_train.values[:,:2],y_train.values, classifier=lr)\n",
        "\n",
        "plt.xlabel('classification_1')\n",
        "plt.ylabel('classification_2')\n",
        "plt.legend(loc='upper left')\n",
        "plt.tight_layout()\n",
        "plt.show()"
      ],
      "metadata": {
        "colab": {
          "base_uri": "https://localhost:8080/",
          "height": 297
        },
        "id": "aiGOZNHmfHdW",
        "outputId": "0582ee78-0ce3-4531-915a-d9c81430b8c3"
      },
      "execution_count": 95,
      "outputs": [
        {
          "output_type": "display_data",
          "data": {
            "text/plain": [
              "<Figure size 432x288 with 1 Axes>"
            ],
            "image/png": "[encoded data removed]"
          },
          "metadata": {
            "needs_background": "light"
          }
        }
      ]
    },
    {
      "cell_type": "code",
      "source": [
        "lr = LogisticRegression(multi_class='ovr',random_state=1, solver='lbfgs')\n",
        "lr.fit(X_test.values[:,:2],y_test.values)"
      ],
      "metadata": {
        "colab": {
          "base_uri": "https://localhost:8080/"
        },
        "id": "cn6XW6nFhXQn",
        "outputId": "27f75977-0648-44e3-9f9c-f6be8ee7454f"
      },
      "execution_count": 96,
      "outputs": [
        {
          "output_type": "execute_result",
          "data": {
            "text/plain": [
              "LogisticRegression(multi_class='ovr', random_state=1)"
            ]
          },
          "metadata": {},
          "execution_count": 96
        }
      ]
    },
    {
      "cell_type": "code",
      "source": [
        "plot_decision_regions(X_test.values[:,:2],y_test.values, classifier=lr)\n",
        "\n",
        "plt.xlabel('classification_1')\n",
        "plt.ylabel('classification_2')\n",
        "plt.legend(loc='upper left')\n",
        "plt.tight_layout()\n",
        "plt.show()"
      ],
      "metadata": {
        "colab": {
          "base_uri": "https://localhost:8080/",
          "height": 297
        },
        "id": "jTR_bOkbhe_8",
        "outputId": "0a4c5b45-c5d0-493a-ce2b-fa6f100fbbf3"
      },
      "execution_count": 97,
      "outputs": [
        {
          "output_type": "display_data",
          "data": {
            "text/plain": [
              "<Figure size 432x288 with 1 Axes>"
            ],
            "image/png": "[encoded data removed]"
          },
          "metadata": {
            "needs_background": "light"
          }
        }
      ]
    },
    {
      "cell_type": "code",
      "source": [
        "y_pred_orig=lr.predict(X_test.values[:,:2])\n",
        "accuracy_orig=accuracy_score(y_test, y_pred_orig)\n",
        "print('Accuracy with imputed data:', accuracy_imputed)\n",
        "print('Accuracy with original data:', accuracy_orig)"
      ],
      "metadata": {
        "colab": {
          "base_uri": "https://localhost:8080/"
        },
        "id": "supS8JCphirO",
        "outputId": "9b150aea-8751-4d4f-ff5a-c246e89deda8"
      },
      "execution_count": 100,
      "outputs": [
        {
          "output_type": "stream",
          "name": "stdout",
          "text": [
            "Accuracy with imputed data: 0.8095238095238095\n",
            "Accuracy with original data: 0.8095238095238095\n"
          ]
        }
      ]
    },
    {
      "cell_type": "code",
      "source": [
        "# get the number of rows and columns of the data\n",
        "n_rows, n_cols = X.shape\n",
        "# randomly select 5% of cells and replace with NaN\n",
        "n_rows, n_cols = X.shape\n",
        "n_cells = int(n_rows * n_cols * 0.05) # 10% of cells\n",
        "indices = np.random.choice(n_rows*n_cols, n_cells, replace=False)\n",
        "row_indices = indices // n_cols\n",
        "col_indices = indices % n_cols\n",
        "X.values[row_indices, col_indices] = np.nan\n",
        "print(X.isna().sum())"
      ],
      "metadata": {
        "colab": {
          "base_uri": "https://localhost:8080/"
        },
        "id": "yQb_CUBujBQn",
        "outputId": "5dffc3a9-717e-49f2-fdb9-08559b951aeb"
      },
      "execution_count": 102,
      "outputs": [
        {
          "output_type": "stream",
          "name": "stdout",
          "text": [
            "Area                        20\n",
            "Perimeter                   19\n",
            "Compactness                 25\n",
            "Length of kernel            17\n",
            "Width of kernel             22\n",
            "Asymmetry coefficient       19\n",
            "Length of kernel groove.    19\n",
            "dtype: int64\n"
          ]
        }
      ]
    },
    {
      "cell_type": "code",
      "source": [
        "# print the manipulated data\n",
        "print(X.head(10))"
      ],
      "metadata": {
        "colab": {
          "base_uri": "https://localhost:8080/"
        },
        "id": "hfnoz-tWkOOl",
        "outputId": "665035e1-7b90-45e9-883a-a91775c98807"
      },
      "execution_count": 103,
      "outputs": [
        {
          "output_type": "stream",
          "name": "stdout",
          "text": [
            "    Area  Perimeter  Compactness  Length of kernel  Width of kernel  \\\n",
            "0  15.26      14.84       0.8710             5.763              NaN   \n",
            "1  14.88      14.57       0.8811             5.554            3.333   \n",
            "2  14.29      14.09          NaN             5.291            3.337   \n",
            "3  13.84      13.94       0.8955             5.324            3.379   \n",
            "4  16.14      14.99       0.9034             5.658            3.562   \n",
            "5    NaN      14.21       0.8951               NaN              NaN   \n",
            "6  14.69      14.49       0.8799             5.563            3.259   \n",
            "7  14.11      14.10       0.8911             5.420              NaN   \n",
            "8  16.63      15.46       0.8747             6.053              NaN   \n",
            "9  16.44      15.25          NaN             5.884            3.505   \n",
            "\n",
            "   Asymmetry coefficient  Length of kernel groove.  \n",
            "0                  2.221                     5.220  \n",
            "1                  1.018                     4.956  \n",
            "2                  2.699                     4.825  \n",
            "3                  2.259                     4.805  \n",
            "4                  1.355                     5.175  \n",
            "5                  2.462                     4.956  \n",
            "6                  3.586                     5.219  \n",
            "7                  2.700                     5.000  \n",
            "8                  2.040                     5.877  \n",
            "9                  1.969                       NaN  \n"
          ]
        }
      ]
    },
    {
      "cell_type": "code",
      "source": [
        "X_imputed = imputer.fit_transform(X)\n",
        "\n",
        "\n",
        "print('Number of NaN values before imputation:\\n', np.isnan(X).sum())\n",
        "print('Number of NaN values after imputation:', np.isnan(X_imputed).sum())\n",
        "\n",
        "print(X_imputed[:10])"
      ],
      "metadata": {
        "colab": {
          "base_uri": "https://localhost:8080/"
        },
        "id": "PBlzCIEHkb1Q",
        "outputId": "1ac24722-3782-4b89-835f-d1cf0e65704b"
      },
      "execution_count": 104,
      "outputs": [
        {
          "output_type": "stream",
          "name": "stdout",
          "text": [
            "Number of NaN values before imputation:\n",
            " Area                        20\n",
            "Perimeter                   19\n",
            "Compactness                 25\n",
            "Length of kernel            17\n",
            "Width of kernel             22\n",
            "Asymmetry coefficient       19\n",
            "Length of kernel groove.    19\n",
            "dtype: int64\n",
            "Number of NaN values after imputation: 0\n",
            "[[15.26   14.84    0.871   5.763   3.2065  2.221   5.22  ]\n",
            " [14.88   14.57    0.8811  5.554   3.333   1.018   4.956 ]\n",
            " [14.29   14.09    0.8724  5.291   3.337   2.699   4.825 ]\n",
            " [13.84   13.94    0.8955  5.324   3.379   2.259   4.805 ]\n",
            " [16.14   14.99    0.9034  5.658   3.562   1.355   5.175 ]\n",
            " [14.355  14.21    0.8951  5.52    3.2065  2.462   4.956 ]\n",
            " [14.69   14.49    0.8799  5.563   3.259   3.586   5.219 ]\n",
            " [14.11   14.1     0.8911  5.42    3.2065  2.7     5.    ]\n",
            " [16.63   15.46    0.8747  6.053   3.2065  2.04    5.877 ]\n",
            " [16.44   15.25    0.8724  5.884   3.505   1.969   5.224 ]]\n"
          ]
        }
      ]
    }
  ]
}